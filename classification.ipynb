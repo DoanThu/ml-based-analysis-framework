{
 "cells": [
  {
   "cell_type": "code",
   "execution_count": 1,
   "metadata": {},
   "outputs": [
    {
     "name": "stderr",
     "output_type": "stream",
     "text": [
      "/Users/samtran/anaconda3/envs/python3.9/lib/python3.9/site-packages/pandas/core/arrays/masked.py:60: UserWarning: Pandas requires version '1.3.6' or newer of 'bottleneck' (version '1.3.5' currently installed).\n",
      "  from pandas.core import (\n"
     ]
    },
    {
     "name": "stdout",
     "output_type": "stream",
     "text": [
      "2024-10-06 17:34 - DEBUG - matplotlib data path: /Users/samtran/anaconda3/envs/python3.9/lib/python3.9/site-packages/matplotlib/mpl-data\n",
      "2024-10-06 17:34 - DEBUG - CONFIGDIR=/Users/samtran/.matplotlib\n",
      "2024-10-06 17:34 - DEBUG - interactive is False\n",
      "2024-10-06 17:34 - DEBUG - platform is darwin\n",
      "2024-10-06 17:34 - DEBUG - CACHEDIR=/Users/samtran/.matplotlib\n",
      "2024-10-06 17:34 - DEBUG - Using fontManager instance from /Users/samtran/.matplotlib/fontlist-v330.json\n"
     ]
    }
   ],
   "source": [
    "import pandas as pd\n",
    "from sklearn.model_selection import train_test_split\n",
    "from utils.training_utils import cross_validate, nested_cross_validation\n",
    "from utils.prediction_utils import predict_with_estimator\n",
    "\n",
    "\n",
    "from sklearn.model_selection import GridSearchCV, KFold\n",
    "import matplotlib.pyplot as plt\n",
    "from utils.feature_importance_utils import get_shap_values\n",
    "import shap\n",
    "from copy import deepcopy\n",
    "\n",
    "\n",
    "from config_models import MODELS\n",
    "from config_preprocess import PREPROCESS_STEPS, PARAM_GRID"
   ]
  },
  {
   "cell_type": "markdown",
   "metadata": {},
   "source": [
    "# Read Data"
   ]
  },
  {
   "cell_type": "code",
   "execution_count": 2,
   "metadata": {},
   "outputs": [],
   "source": [
    "# read toy data\n",
    "from sklearn.datasets import load_breast_cancer\n",
    "X, y = load_breast_cancer(return_X_y=True, as_frame=True)\n",
    "X_train, X_test, y_train, y_test = train_test_split(X, y, test_size=0.2, random_state=42)\n",
    "\n",
    "\n",
    "METRICS = ['auc', 'accuracy']\n"
   ]
  },
  {
   "cell_type": "markdown",
   "metadata": {},
   "source": [
    "# Nested Cross Validation"
   ]
  },
  {
   "cell_type": "code",
   "execution_count": 4,
   "metadata": {},
   "outputs": [
    {
     "name": "stdout",
     "output_type": "stream",
     "text": [
      "------------------------------ SVC ------------------------------\n",
      "2024-10-06 17:34 - INFO - AUC:0.9413 +- 0.0093\n",
      "2024-10-06 17:34 - INFO - ACCURACY:0.9467 +- 0.0088\n",
      "------------------------------ LR ------------------------------\n",
      "2024-10-06 17:34 - INFO - AUC:0.9517 +- 0.0049\n",
      "2024-10-06 17:34 - INFO - ACCURACY:0.9578 +- 0.0038\n",
      "------------------------------ KNC ------------------------------\n",
      "2024-10-06 17:34 - INFO - AUC:0.8842 +- 0.0086\n",
      "2024-10-06 17:34 - INFO - ACCURACY:0.9033 +- 0.0038\n"
     ]
    }
   ],
   "source": [
    "import functools\n",
    "\n",
    "# set params except for random_state\n",
    "inner_cv = functools.partial(KFold, n_splits=3, shuffle=True)\n",
    "outer_cv = functools.partial(KFold, n_splits=3, shuffle=True)\n",
    "\n",
    "for model_name, model, model_param_grid in MODELS:\n",
    "    print('---'*10 + ' ' + model_name.upper() + ' ' + \"---\"*10)\n",
    "    pipeline = deepcopy(PREPROCESS_STEPS)\n",
    "    pipeline.steps.append(['model',model])\n",
    "    \n",
    "    param_grid = deepcopy(PARAM_GRID)\n",
    "    param_grid.update(model_param_grid)\n",
    "    \n",
    "    nested_cross_validation(X, y, 3, inner_cv, outer_cv, GridSearchCV, pipeline, param_grid, METRICS)"
   ]
  },
  {
   "cell_type": "markdown",
   "metadata": {},
   "source": [
    "# Cross Validation"
   ]
  },
  {
   "cell_type": "code",
   "execution_count": 5,
   "metadata": {},
   "outputs": [
    {
     "name": "stdout",
     "output_type": "stream",
     "text": [
      "------------------------------ SVC ------------------------------\n"
     ]
    },
    {
     "name": "stderr",
     "output_type": "stream",
     "text": [
      "  0%|          | 0/2 [00:00<?, ?it/s]"
     ]
    },
    {
     "name": "stdout",
     "output_type": "stream",
     "text": [
      "2024-10-06 17:34 - INFO - Finding the best estimator for metric: auc\n",
      "2024-10-06 17:34 - INFO - Best score for auc: 0.9309006625264414\n"
     ]
    },
    {
     "name": "stderr",
     "output_type": "stream",
     "text": [
      " 50%|█████     | 1/2 [00:02<00:02,  2.52s/it]"
     ]
    },
    {
     "name": "stdout",
     "output_type": "stream",
     "text": [
      "2024-10-06 17:34 - INFO - Finding the best estimator for metric: accuracy\n",
      "2024-10-06 17:34 - INFO - Best score for accuracy: 0.9384803067270825\n"
     ]
    },
    {
     "name": "stderr",
     "output_type": "stream",
     "text": [
      "100%|██████████| 2/2 [00:02<00:00,  1.46s/it]\n"
     ]
    },
    {
     "name": "stdout",
     "output_type": "stream",
     "text": [
      "------------------------------ LR ------------------------------\n"
     ]
    },
    {
     "name": "stderr",
     "output_type": "stream",
     "text": [
      "  0%|          | 0/2 [00:00<?, ?it/s]"
     ]
    },
    {
     "name": "stdout",
     "output_type": "stream",
     "text": [
      "2024-10-06 17:34 - INFO - Finding the best estimator for metric: auc\n",
      "2024-10-06 17:34 - INFO - Best score for auc: 0.950560551751548\n"
     ]
    },
    {
     "name": "stderr",
     "output_type": "stream",
     "text": [
      " 50%|█████     | 1/2 [00:00<00:00,  4.68it/s]"
     ]
    },
    {
     "name": "stdout",
     "output_type": "stream",
     "text": [
      "2024-10-06 17:34 - INFO - Finding the best estimator for metric: accuracy\n",
      "2024-10-06 17:34 - INFO - Best score for accuracy: 0.9538892761705587\n"
     ]
    },
    {
     "name": "stderr",
     "output_type": "stream",
     "text": [
      "100%|██████████| 2/2 [00:00<00:00,  5.13it/s]\n"
     ]
    },
    {
     "name": "stdout",
     "output_type": "stream",
     "text": [
      "------------------------------ KNC ------------------------------\n"
     ]
    },
    {
     "name": "stderr",
     "output_type": "stream",
     "text": [
      "  0%|          | 0/2 [00:00<?, ?it/s]"
     ]
    },
    {
     "name": "stdout",
     "output_type": "stream",
     "text": [
      "2024-10-06 17:34 - INFO - Finding the best estimator for metric: auc\n",
      "2024-10-06 17:34 - INFO - Best score for auc: 0.8882189889397946\n"
     ]
    },
    {
     "name": "stderr",
     "output_type": "stream",
     "text": [
      " 50%|█████     | 1/2 [00:00<00:00,  2.18it/s]"
     ]
    },
    {
     "name": "stdout",
     "output_type": "stream",
     "text": [
      "2024-10-06 17:34 - INFO - Finding the best estimator for metric: accuracy\n",
      "2024-10-06 17:34 - INFO - Best score for accuracy: 0.909869873358894\n"
     ]
    },
    {
     "name": "stderr",
     "output_type": "stream",
     "text": [
      "100%|██████████| 2/2 [00:00<00:00,  2.46it/s]\n"
     ]
    }
   ],
   "source": [
    "cv = KFold(n_splits=3, shuffle=True, random_state=1)\n",
    "\n",
    "BEST_ESTIMATOR = {}\n",
    "RESULTS = {}\n",
    "for model_name, model, model_param_grid in MODELS:\n",
    "    print('---'*10 + ' ' + model_name.upper() + ' ' + \"---\"*10)\n",
    "    pipeline = deepcopy(PREPROCESS_STEPS)\n",
    "    pipeline.steps.append(['model',model])\n",
    "    \n",
    "    param_grid = deepcopy(PARAM_GRID)\n",
    "    param_grid.update(model_param_grid)\n",
    "    \n",
    "    best_estimators_dict_by_metric = cross_validate(X=X_train, y=y_train, repeated_cv_func=cv, param_grid=param_grid,\n",
    "                                                pipeline=pipeline, target_metrics=METRICS, search_cv_func=GridSearchCV)\n",
    "    \n",
    "    best_estimator = best_estimators_dict_by_metric['auc']\n",
    "    results = predict_with_estimator(best_estimator, X_train, y_train, X_test, y_test)\n",
    "    RESULTS[model_name] = results \n",
    "    BEST_ESTIMATOR[model_name] = best_estimator\n",
    "    \n",
    "    "
   ]
  },
  {
   "cell_type": "markdown",
   "metadata": {},
   "source": [
    "# Test Results"
   ]
  },
  {
   "cell_type": "code",
   "execution_count": 6,
   "metadata": {},
   "outputs": [
    {
     "data": {
      "text/plain": [
       "{'svc': Pipeline(steps=[('drop', DropCorrelatedFeatures()),\n",
       "                 ('sampling',\n",
       "                  RandomUnderSampler(random_state=18, sampling_strategy=1)),\n",
       "                 ('reduce_dim', PCA(iterated_power=7, n_components=10)),\n",
       "                 ('scaler', StandardScaler()),\n",
       "                 ['model', SVC(degree=2, gamma=0.1)]]),\n",
       " 'lr': Pipeline(steps=[('drop', DropCorrelatedFeatures()),\n",
       "                 ('sampling',\n",
       "                  RandomOverSampler(random_state=18, sampling_strategy=1)),\n",
       "                 ('reduce_dim', PCA(iterated_power=7, n_components=10)),\n",
       "                 ('scaler', StandardScaler()),\n",
       "                 ['model',\n",
       "                  LogisticRegression(penalty='l1', solver='liblinear')]]),\n",
       " 'knc': Pipeline(steps=[('drop', DropCorrelatedFeatures()),\n",
       "                 ('sampling',\n",
       "                  RandomUnderSampler(random_state=18, sampling_strategy=1)),\n",
       "                 ('reduce_dim', PCA(iterated_power=7, n_components=10)),\n",
       "                 ('scaler', StandardScaler()),\n",
       "                 ['model',\n",
       "                  KNeighborsClassifier(algorithm='brute', metric='l1')]])}"
      ]
     },
     "execution_count": 6,
     "metadata": {},
     "output_type": "execute_result"
    }
   ],
   "source": [
    "BEST_ESTIMATOR"
   ]
  },
  {
   "cell_type": "code",
   "execution_count": 7,
   "metadata": {},
   "outputs": [
    {
     "data": {
      "text/html": [
       "<div>\n",
       "<style scoped>\n",
       "    .dataframe tbody tr th:only-of-type {\n",
       "        vertical-align: middle;\n",
       "    }\n",
       "\n",
       "    .dataframe tbody tr th {\n",
       "        vertical-align: top;\n",
       "    }\n",
       "\n",
       "    .dataframe thead th {\n",
       "        text-align: right;\n",
       "    }\n",
       "</style>\n",
       "<table border=\"1\" class=\"dataframe\">\n",
       "  <thead>\n",
       "    <tr style=\"text-align: right;\">\n",
       "      <th></th>\n",
       "      <th>svc</th>\n",
       "      <th>lr</th>\n",
       "      <th>knc</th>\n",
       "    </tr>\n",
       "  </thead>\n",
       "  <tbody>\n",
       "    <tr>\n",
       "      <th>accuracy</th>\n",
       "      <td>0.938596</td>\n",
       "      <td>0.938596</td>\n",
       "      <td>0.877193</td>\n",
       "    </tr>\n",
       "    <tr>\n",
       "      <th>precision</th>\n",
       "      <td>0.957143</td>\n",
       "      <td>0.957143</td>\n",
       "      <td>0.870130</td>\n",
       "    </tr>\n",
       "    <tr>\n",
       "      <th>sensitivity</th>\n",
       "      <td>0.943662</td>\n",
       "      <td>0.943662</td>\n",
       "      <td>0.943662</td>\n",
       "    </tr>\n",
       "    <tr>\n",
       "      <th>specificity</th>\n",
       "      <td>0.930233</td>\n",
       "      <td>0.930233</td>\n",
       "      <td>0.767442</td>\n",
       "    </tr>\n",
       "    <tr>\n",
       "      <th>f1</th>\n",
       "      <td>0.950355</td>\n",
       "      <td>0.950355</td>\n",
       "      <td>0.905405</td>\n",
       "    </tr>\n",
       "    <tr>\n",
       "      <th>auc</th>\n",
       "      <td>0.936947</td>\n",
       "      <td>0.936947</td>\n",
       "      <td>0.855552</td>\n",
       "    </tr>\n",
       "    <tr>\n",
       "      <th>ppv</th>\n",
       "      <td>0.957143</td>\n",
       "      <td>0.957143</td>\n",
       "      <td>0.870130</td>\n",
       "    </tr>\n",
       "    <tr>\n",
       "      <th>npv</th>\n",
       "      <td>0.909091</td>\n",
       "      <td>0.909091</td>\n",
       "      <td>0.891892</td>\n",
       "    </tr>\n",
       "  </tbody>\n",
       "</table>\n",
       "</div>"
      ],
      "text/plain": [
       "                  svc        lr       knc\n",
       "accuracy     0.938596  0.938596  0.877193\n",
       "precision    0.957143  0.957143  0.870130\n",
       "sensitivity  0.943662  0.943662  0.943662\n",
       "specificity  0.930233  0.930233  0.767442\n",
       "f1           0.950355  0.950355  0.905405\n",
       "auc          0.936947  0.936947  0.855552\n",
       "ppv          0.957143  0.957143  0.870130\n",
       "npv          0.909091  0.909091  0.891892"
      ]
     },
     "execution_count": 7,
     "metadata": {},
     "output_type": "execute_result"
    }
   ],
   "source": [
    "pd.DataFrame(data=RESULTS)"
   ]
  },
  {
   "cell_type": "markdown",
   "metadata": {},
   "source": [
    "# Feature Importance"
   ]
  },
  {
   "cell_type": "code",
   "execution_count": 11,
   "metadata": {},
   "outputs": [
    {
     "data": {
      "application/vnd.jupyter.widget-view+json": {
       "model_id": "285bf4a2f8124282934c4722f2585bd3",
       "version_major": 2,
       "version_minor": 0
      },
      "text/plain": [
       "  0%|          | 0/5 [00:00<?, ?it/s]"
      ]
     },
     "metadata": {},
     "output_type": "display_data"
    },
    {
     "name": "stdout",
     "output_type": "stream",
     "text": [
      "2024-10-06 17:35 - DEBUG - weight_vector = array([0.39276196, 0.2209286 , 0.16832655, 0.14728573, 0.07069715])\n",
      "2024-10-06 17:35 - DEBUG - num_subset_sizes = 5\n",
      "2024-10-06 17:35 - DEBUG - num_paired_subset_sizes = 4\n",
      "2024-10-06 17:35 - DEBUG - self.M = 10\n",
      "2024-10-06 17:35 - DEBUG - subset_size = 1\n",
      "2024-10-06 17:35 - DEBUG - nsubsets = 20.0\n",
      "2024-10-06 17:35 - DEBUG - self.nsamples*weight_vector[subset_size-1] = 401.4027212792817\n",
      "2024-10-06 17:35 - DEBUG - self.nsamples*weight_vector[subset_size-1]/nsubsets = 20.070136063964085\n",
      "2024-10-06 17:35 - DEBUG - subset_size = 2\n",
      "2024-10-06 17:35 - DEBUG - nsubsets = 90.0\n",
      "2024-10-06 17:35 - DEBUG - self.nsamples*weight_vector[subset_size-1] = 364.5530145530144\n",
      "2024-10-06 17:35 - DEBUG - self.nsamples*weight_vector[subset_size-1]/nsubsets = 4.050589050589049\n",
      "2024-10-06 17:35 - DEBUG - subset_size = 3\n",
      "2024-10-06 17:35 - DEBUG - nsubsets = 240.0\n",
      "2024-10-06 17:35 - DEBUG - self.nsamples*weight_vector[subset_size-1] = 397.3856209150324\n",
      "2024-10-06 17:35 - DEBUG - self.nsamples*weight_vector[subset_size-1]/nsubsets = 1.6557734204793018\n",
      "2024-10-06 17:35 - DEBUG - subset_size = 4\n",
      "2024-10-06 17:35 - DEBUG - nsubsets = 420.0\n",
      "2024-10-06 17:35 - DEBUG - self.nsamples*weight_vector[subset_size-1] = 454.0540540540535\n",
      "2024-10-06 17:35 - DEBUG - self.nsamples*weight_vector[subset_size-1]/nsubsets = 1.0810810810810798\n",
      "2024-10-06 17:35 - DEBUG - subset_size = 5\n",
      "2024-10-06 17:35 - DEBUG - nsubsets = 252.0\n",
      "2024-10-06 17:35 - DEBUG - self.nsamples*weight_vector[subset_size-1] = 251.9999999999991\n",
      "2024-10-06 17:35 - DEBUG - self.nsamples*weight_vector[subset_size-1]/nsubsets = 0.9999999999999963\n",
      "2024-10-06 17:35 - INFO - num_full_subsets = 5\n",
      "2024-10-06 17:35 - DEBUG - samples_left = 0\n",
      "2024-10-06 17:35 - DEBUG - fraction_evaluated = 1.0\n",
      "2024-10-06 17:35 - DEBUG - etmp[:4, :] = array([[ 1.,  0.,  0.,  0.,  0.,  0.,  0.,  0.,  0.],\n",
      "       [-1.,  0.,  0.,  0.,  0.,  0.,  0.,  0.,  0.],\n",
      "       [ 0.,  1.,  0.,  0.,  0.,  0.,  0.,  0.,  0.],\n",
      "       [ 0., -1.,  0.,  0.,  0.,  0.,  0.,  0.,  0.]])\n",
      "2024-10-06 17:35 - DEBUG - np.sum(w) = 0.20007936507936502\n",
      "2024-10-06 17:35 - DEBUG - self.link(self.fx) - self.link(self.fnull) = 0.19999999999999996\n",
      "2024-10-06 17:35 - DEBUG - self.fx = 1\n",
      "2024-10-06 17:35 - DEBUG - self.link(self.fx) = 1\n",
      "2024-10-06 17:35 - DEBUG - self.fnull = 0.8\n",
      "2024-10-06 17:35 - DEBUG - self.link(self.fnull) = 0.8\n",
      "2024-10-06 17:35 - INFO - phi = array([ 1.66507937e-01, -6.74603175e-03,  1.94603175e-01, -5.88888889e-02,\n",
      "       -5.42857143e-02,  9.92063492e-03, -1.37301587e-02, -3.67460317e-02,\n",
      "       -5.55555556e-04, -7.93650794e-05])\n",
      "2024-10-06 17:35 - DEBUG - weight_vector = array([0.39276196, 0.2209286 , 0.16832655, 0.14728573, 0.07069715])\n",
      "2024-10-06 17:35 - DEBUG - num_subset_sizes = 5\n",
      "2024-10-06 17:35 - DEBUG - num_paired_subset_sizes = 4\n",
      "2024-10-06 17:35 - DEBUG - self.M = 10\n",
      "2024-10-06 17:35 - DEBUG - subset_size = 1\n",
      "2024-10-06 17:35 - DEBUG - nsubsets = 20.0\n",
      "2024-10-06 17:35 - DEBUG - self.nsamples*weight_vector[subset_size-1] = 401.4027212792817\n",
      "2024-10-06 17:35 - DEBUG - self.nsamples*weight_vector[subset_size-1]/nsubsets = 20.070136063964085\n",
      "2024-10-06 17:35 - DEBUG - subset_size = 2\n",
      "2024-10-06 17:35 - DEBUG - nsubsets = 90.0\n",
      "2024-10-06 17:35 - DEBUG - self.nsamples*weight_vector[subset_size-1] = 364.5530145530144\n",
      "2024-10-06 17:35 - DEBUG - self.nsamples*weight_vector[subset_size-1]/nsubsets = 4.050589050589049\n",
      "2024-10-06 17:35 - DEBUG - subset_size = 3\n",
      "2024-10-06 17:35 - DEBUG - nsubsets = 240.0\n",
      "2024-10-06 17:35 - DEBUG - self.nsamples*weight_vector[subset_size-1] = 397.3856209150324\n",
      "2024-10-06 17:35 - DEBUG - self.nsamples*weight_vector[subset_size-1]/nsubsets = 1.6557734204793018\n",
      "2024-10-06 17:35 - DEBUG - subset_size = 4\n",
      "2024-10-06 17:35 - DEBUG - nsubsets = 420.0\n",
      "2024-10-06 17:35 - DEBUG - self.nsamples*weight_vector[subset_size-1] = 454.0540540540535\n",
      "2024-10-06 17:35 - DEBUG - self.nsamples*weight_vector[subset_size-1]/nsubsets = 1.0810810810810798\n",
      "2024-10-06 17:35 - DEBUG - subset_size = 5\n",
      "2024-10-06 17:35 - DEBUG - nsubsets = 252.0\n",
      "2024-10-06 17:35 - DEBUG - self.nsamples*weight_vector[subset_size-1] = 251.9999999999991\n",
      "2024-10-06 17:35 - DEBUG - self.nsamples*weight_vector[subset_size-1]/nsubsets = 0.9999999999999963\n",
      "2024-10-06 17:35 - INFO - num_full_subsets = 5\n",
      "2024-10-06 17:35 - DEBUG - samples_left = 0\n",
      "2024-10-06 17:35 - DEBUG - fraction_evaluated = 1.0\n",
      "2024-10-06 17:35 - DEBUG - etmp[:4, :] = array([[ 1.,  0.,  0.,  0.,  0.,  0.,  0.,  0.,  0.],\n",
      "       [-1.,  0.,  0.,  0.,  0.,  0.,  0.,  0.,  0.],\n",
      "       [ 0.,  1.,  0.,  0.,  0.,  0.,  0.,  0.,  0.],\n",
      "       [ 0., -1.,  0.,  0.,  0.,  0.,  0.,  0.,  0.]])\n",
      "2024-10-06 17:35 - DEBUG - np.sum(w) = 0.20539682539682533\n",
      "2024-10-06 17:35 - DEBUG - self.link(self.fx) - self.link(self.fnull) = 0.19999999999999996\n",
      "2024-10-06 17:35 - DEBUG - self.fx = 1\n",
      "2024-10-06 17:35 - DEBUG - self.link(self.fx) = 1\n",
      "2024-10-06 17:35 - DEBUG - self.fnull = 0.8\n",
      "2024-10-06 17:35 - DEBUG - self.link(self.fnull) = 0.8\n",
      "2024-10-06 17:35 - INFO - phi = array([ 0.11492063, -0.00269841, -0.22761905,  0.0097619 ,  0.32444444,\n",
      "        0.00119048,  0.00912698, -0.03198413,  0.00825397, -0.00539683])\n",
      "2024-10-06 17:35 - DEBUG - weight_vector = array([0.39276196, 0.2209286 , 0.16832655, 0.14728573, 0.07069715])\n",
      "2024-10-06 17:35 - DEBUG - num_subset_sizes = 5\n",
      "2024-10-06 17:35 - DEBUG - num_paired_subset_sizes = 4\n",
      "2024-10-06 17:35 - DEBUG - self.M = 10\n",
      "2024-10-06 17:35 - DEBUG - subset_size = 1\n",
      "2024-10-06 17:35 - DEBUG - nsubsets = 20.0\n",
      "2024-10-06 17:35 - DEBUG - self.nsamples*weight_vector[subset_size-1] = 401.4027212792817\n",
      "2024-10-06 17:35 - DEBUG - self.nsamples*weight_vector[subset_size-1]/nsubsets = 20.070136063964085\n",
      "2024-10-06 17:35 - DEBUG - subset_size = 2\n",
      "2024-10-06 17:35 - DEBUG - nsubsets = 90.0\n",
      "2024-10-06 17:35 - DEBUG - self.nsamples*weight_vector[subset_size-1] = 364.5530145530144\n",
      "2024-10-06 17:35 - DEBUG - self.nsamples*weight_vector[subset_size-1]/nsubsets = 4.050589050589049\n",
      "2024-10-06 17:35 - DEBUG - subset_size = 3\n",
      "2024-10-06 17:35 - DEBUG - nsubsets = 240.0\n",
      "2024-10-06 17:35 - DEBUG - self.nsamples*weight_vector[subset_size-1] = 397.3856209150324\n",
      "2024-10-06 17:35 - DEBUG - self.nsamples*weight_vector[subset_size-1]/nsubsets = 1.6557734204793018\n",
      "2024-10-06 17:35 - DEBUG - subset_size = 4\n",
      "2024-10-06 17:35 - DEBUG - nsubsets = 420.0\n",
      "2024-10-06 17:35 - DEBUG - self.nsamples*weight_vector[subset_size-1] = 454.0540540540535\n",
      "2024-10-06 17:35 - DEBUG - self.nsamples*weight_vector[subset_size-1]/nsubsets = 1.0810810810810798\n",
      "2024-10-06 17:35 - DEBUG - subset_size = 5\n",
      "2024-10-06 17:35 - DEBUG - nsubsets = 252.0\n",
      "2024-10-06 17:35 - DEBUG - self.nsamples*weight_vector[subset_size-1] = 251.9999999999991\n",
      "2024-10-06 17:35 - DEBUG - self.nsamples*weight_vector[subset_size-1]/nsubsets = 0.9999999999999963\n",
      "2024-10-06 17:35 - INFO - num_full_subsets = 5\n",
      "2024-10-06 17:35 - DEBUG - samples_left = 0\n",
      "2024-10-06 17:35 - DEBUG - fraction_evaluated = 1.0\n",
      "2024-10-06 17:35 - DEBUG - etmp[:4, :] = array([[ 1.,  0.,  0.,  0.,  0.,  0.,  0.,  0.,  0.],\n",
      "       [-1.,  0.,  0.,  0.,  0.,  0.,  0.,  0.,  0.],\n",
      "       [ 0.,  1.,  0.,  0.,  0.,  0.,  0.,  0.,  0.],\n",
      "       [ 0., -1.,  0.,  0.,  0.,  0.,  0.,  0.,  0.]])\n",
      "2024-10-06 17:35 - DEBUG - np.sum(w) = 0.20063492063492044\n",
      "2024-10-06 17:35 - DEBUG - self.link(self.fx) - self.link(self.fnull) = 0.19999999999999996\n",
      "2024-10-06 17:35 - DEBUG - self.fx = 1\n",
      "2024-10-06 17:35 - DEBUG - self.link(self.fx) = 1\n",
      "2024-10-06 17:35 - DEBUG - self.fnull = 0.8\n",
      "2024-10-06 17:35 - DEBUG - self.link(self.fnull) = 0.8\n",
      "2024-10-06 17:35 - INFO - phi = array([ 0.22031746,  0.00277778,  0.04706349,  0.00698413, -0.08047619,\n",
      "       -0.00373016,  0.00587302,  0.00888889, -0.00706349, -0.00063492])\n",
      "2024-10-06 17:35 - DEBUG - weight_vector = array([0.39276196, 0.2209286 , 0.16832655, 0.14728573, 0.07069715])\n",
      "2024-10-06 17:35 - DEBUG - num_subset_sizes = 5\n",
      "2024-10-06 17:35 - DEBUG - num_paired_subset_sizes = 4\n",
      "2024-10-06 17:35 - DEBUG - self.M = 10\n",
      "2024-10-06 17:35 - DEBUG - subset_size = 1\n",
      "2024-10-06 17:35 - DEBUG - nsubsets = 20.0\n",
      "2024-10-06 17:35 - DEBUG - self.nsamples*weight_vector[subset_size-1] = 401.4027212792817\n",
      "2024-10-06 17:35 - DEBUG - self.nsamples*weight_vector[subset_size-1]/nsubsets = 20.070136063964085\n",
      "2024-10-06 17:35 - DEBUG - subset_size = 2\n",
      "2024-10-06 17:35 - DEBUG - nsubsets = 90.0\n",
      "2024-10-06 17:35 - DEBUG - self.nsamples*weight_vector[subset_size-1] = 364.5530145530144\n",
      "2024-10-06 17:35 - DEBUG - self.nsamples*weight_vector[subset_size-1]/nsubsets = 4.050589050589049\n",
      "2024-10-06 17:35 - DEBUG - subset_size = 3\n",
      "2024-10-06 17:35 - DEBUG - nsubsets = 240.0\n",
      "2024-10-06 17:35 - DEBUG - self.nsamples*weight_vector[subset_size-1] = 397.3856209150324\n",
      "2024-10-06 17:35 - DEBUG - self.nsamples*weight_vector[subset_size-1]/nsubsets = 1.6557734204793018\n",
      "2024-10-06 17:35 - DEBUG - subset_size = 4\n",
      "2024-10-06 17:35 - DEBUG - nsubsets = 420.0\n",
      "2024-10-06 17:35 - DEBUG - self.nsamples*weight_vector[subset_size-1] = 454.0540540540535\n",
      "2024-10-06 17:35 - DEBUG - self.nsamples*weight_vector[subset_size-1]/nsubsets = 1.0810810810810798\n",
      "2024-10-06 17:35 - DEBUG - subset_size = 5\n",
      "2024-10-06 17:35 - DEBUG - nsubsets = 252.0\n",
      "2024-10-06 17:35 - DEBUG - self.nsamples*weight_vector[subset_size-1] = 251.9999999999991\n",
      "2024-10-06 17:35 - DEBUG - self.nsamples*weight_vector[subset_size-1]/nsubsets = 0.9999999999999963\n",
      "2024-10-06 17:35 - INFO - num_full_subsets = 5\n",
      "2024-10-06 17:35 - DEBUG - samples_left = 0\n",
      "2024-10-06 17:35 - DEBUG - fraction_evaluated = 1.0\n",
      "2024-10-06 17:35 - DEBUG - etmp[:4, :] = array([[ 1.,  0.,  0.,  0.,  0.,  0.,  0.,  0.,  0.],\n",
      "       [-1.,  0.,  0.,  0.,  0.,  0.,  0.,  0.,  0.],\n",
      "       [ 0.,  1.,  0.,  0.,  0.,  0.,  0.,  0.,  0.],\n",
      "       [ 0., -1.,  0.,  0.,  0.,  0.,  0.,  0.,  0.]])\n",
      "2024-10-06 17:35 - DEBUG - np.sum(w) = -0.7824603174603171\n",
      "2024-10-06 17:35 - DEBUG - self.link(self.fx) - self.link(self.fnull) = -0.8\n",
      "2024-10-06 17:35 - DEBUG - self.fx = 0\n",
      "2024-10-06 17:35 - DEBUG - self.link(self.fx) = 0\n",
      "2024-10-06 17:35 - DEBUG - self.fnull = 0.8\n",
      "2024-10-06 17:35 - DEBUG - self.link(self.fnull) = 0.8\n",
      "2024-10-06 17:35 - INFO - phi = array([-0.70873016,  0.00428571,  0.09126984, -0.02936508, -0.12142857,\n",
      "        0.01293651,  0.00896825, -0.03071429, -0.00968254, -0.01753968])\n",
      "2024-10-06 17:35 - DEBUG - weight_vector = array([0.39276196, 0.2209286 , 0.16832655, 0.14728573, 0.07069715])\n",
      "2024-10-06 17:35 - DEBUG - num_subset_sizes = 5\n",
      "2024-10-06 17:35 - DEBUG - num_paired_subset_sizes = 4\n",
      "2024-10-06 17:35 - DEBUG - self.M = 10\n",
      "2024-10-06 17:35 - DEBUG - subset_size = 1\n",
      "2024-10-06 17:35 - DEBUG - nsubsets = 20.0\n",
      "2024-10-06 17:35 - DEBUG - self.nsamples*weight_vector[subset_size-1] = 401.4027212792817\n",
      "2024-10-06 17:35 - DEBUG - self.nsamples*weight_vector[subset_size-1]/nsubsets = 20.070136063964085\n",
      "2024-10-06 17:35 - DEBUG - subset_size = 2\n",
      "2024-10-06 17:35 - DEBUG - nsubsets = 90.0\n",
      "2024-10-06 17:35 - DEBUG - self.nsamples*weight_vector[subset_size-1] = 364.5530145530144\n",
      "2024-10-06 17:35 - DEBUG - self.nsamples*weight_vector[subset_size-1]/nsubsets = 4.050589050589049\n",
      "2024-10-06 17:35 - DEBUG - subset_size = 3\n",
      "2024-10-06 17:35 - DEBUG - nsubsets = 240.0\n",
      "2024-10-06 17:35 - DEBUG - self.nsamples*weight_vector[subset_size-1] = 397.3856209150324\n",
      "2024-10-06 17:35 - DEBUG - self.nsamples*weight_vector[subset_size-1]/nsubsets = 1.6557734204793018\n",
      "2024-10-06 17:35 - DEBUG - subset_size = 4\n",
      "2024-10-06 17:35 - DEBUG - nsubsets = 420.0\n",
      "2024-10-06 17:35 - DEBUG - self.nsamples*weight_vector[subset_size-1] = 454.0540540540535\n",
      "2024-10-06 17:35 - DEBUG - self.nsamples*weight_vector[subset_size-1]/nsubsets = 1.0810810810810798\n",
      "2024-10-06 17:35 - DEBUG - subset_size = 5\n",
      "2024-10-06 17:35 - DEBUG - nsubsets = 252.0\n",
      "2024-10-06 17:35 - DEBUG - self.nsamples*weight_vector[subset_size-1] = 251.9999999999991\n",
      "2024-10-06 17:35 - DEBUG - self.nsamples*weight_vector[subset_size-1]/nsubsets = 0.9999999999999963\n",
      "2024-10-06 17:35 - INFO - num_full_subsets = 5\n",
      "2024-10-06 17:35 - DEBUG - samples_left = 0\n",
      "2024-10-06 17:35 - DEBUG - fraction_evaluated = 1.0\n",
      "2024-10-06 17:35 - DEBUG - etmp[:4, :] = array([[ 1.,  0.,  0.,  0.,  0.,  0.,  0.,  0.,  0.],\n",
      "       [-1.,  0.,  0.,  0.,  0.,  0.,  0.,  0.,  0.],\n",
      "       [ 0.,  1.,  0.,  0.,  0.,  0.,  0.,  0.,  0.],\n",
      "       [ 0., -1.,  0.,  0.,  0.,  0.,  0.,  0.,  0.]])\n",
      "2024-10-06 17:35 - DEBUG - np.sum(w) = 0.1763492063492062\n",
      "2024-10-06 17:35 - DEBUG - self.link(self.fx) - self.link(self.fnull) = 0.19999999999999996\n",
      "2024-10-06 17:35 - DEBUG - self.fx = 1\n",
      "2024-10-06 17:35 - DEBUG - self.link(self.fx) = 1\n",
      "2024-10-06 17:35 - DEBUG - self.fnull = 0.8\n",
      "2024-10-06 17:35 - DEBUG - self.link(self.fnull) = 0.8\n",
      "2024-10-06 17:35 - INFO - phi = array([ 0.20698413,  0.00238095, -0.10531746,  0.07150794, -0.06825397,\n",
      "       -0.02031746, -0.0102381 ,  0.09055556,  0.00904762,  0.02365079])\n"
     ]
    },
    {
     "data": {
      "application/vnd.jupyter.widget-view+json": {
       "model_id": "fdaa0c71eef04b618cbc0c3ed9d8324d",
       "version_major": 2,
       "version_minor": 0
      },
      "text/plain": [
       "  0%|          | 0/5 [00:00<?, ?it/s]"
      ]
     },
     "metadata": {},
     "output_type": "display_data"
    },
    {
     "name": "stdout",
     "output_type": "stream",
     "text": [
      "2024-10-06 17:35 - DEBUG - weight_vector = array([0.39276196, 0.2209286 , 0.16832655, 0.14728573, 0.07069715])\n",
      "2024-10-06 17:35 - DEBUG - num_subset_sizes = 5\n",
      "2024-10-06 17:35 - DEBUG - num_paired_subset_sizes = 4\n",
      "2024-10-06 17:35 - DEBUG - self.M = 10\n",
      "2024-10-06 17:35 - DEBUG - subset_size = 1\n",
      "2024-10-06 17:35 - DEBUG - nsubsets = 20.0\n",
      "2024-10-06 17:35 - DEBUG - self.nsamples*weight_vector[subset_size-1] = 401.4027212792817\n",
      "2024-10-06 17:35 - DEBUG - self.nsamples*weight_vector[subset_size-1]/nsubsets = 20.070136063964085\n",
      "2024-10-06 17:35 - DEBUG - subset_size = 2\n",
      "2024-10-06 17:35 - DEBUG - nsubsets = 90.0\n",
      "2024-10-06 17:35 - DEBUG - self.nsamples*weight_vector[subset_size-1] = 364.5530145530144\n",
      "2024-10-06 17:35 - DEBUG - self.nsamples*weight_vector[subset_size-1]/nsubsets = 4.050589050589049\n",
      "2024-10-06 17:35 - DEBUG - subset_size = 3\n",
      "2024-10-06 17:35 - DEBUG - nsubsets = 240.0\n",
      "2024-10-06 17:35 - DEBUG - self.nsamples*weight_vector[subset_size-1] = 397.3856209150324\n",
      "2024-10-06 17:35 - DEBUG - self.nsamples*weight_vector[subset_size-1]/nsubsets = 1.6557734204793018\n",
      "2024-10-06 17:35 - DEBUG - subset_size = 4\n",
      "2024-10-06 17:35 - DEBUG - nsubsets = 420.0\n",
      "2024-10-06 17:35 - DEBUG - self.nsamples*weight_vector[subset_size-1] = 454.0540540540535\n",
      "2024-10-06 17:35 - DEBUG - self.nsamples*weight_vector[subset_size-1]/nsubsets = 1.0810810810810798\n",
      "2024-10-06 17:35 - DEBUG - subset_size = 5\n",
      "2024-10-06 17:35 - DEBUG - nsubsets = 252.0\n",
      "2024-10-06 17:35 - DEBUG - self.nsamples*weight_vector[subset_size-1] = 251.9999999999991\n",
      "2024-10-06 17:35 - DEBUG - self.nsamples*weight_vector[subset_size-1]/nsubsets = 0.9999999999999963\n",
      "2024-10-06 17:35 - INFO - num_full_subsets = 5\n",
      "2024-10-06 17:35 - DEBUG - samples_left = 0\n",
      "2024-10-06 17:35 - DEBUG - fraction_evaluated = 1.0\n",
      "2024-10-06 17:35 - DEBUG - etmp[:4, :] = array([[ 1.,  0.,  0.,  0.,  0.,  0.,  0.,  0.,  0.],\n",
      "       [-1.,  0.,  0.,  0.,  0.,  0.,  0.,  0.,  0.],\n",
      "       [ 0.,  1.,  0.,  0.,  0.,  0.,  0.,  0.,  0.],\n",
      "       [ 0., -1.,  0.,  0.,  0.,  0.,  0.,  0.,  0.]])\n",
      "2024-10-06 17:35 - DEBUG - np.sum(w) = 0.1996825396825395\n",
      "2024-10-06 17:35 - DEBUG - self.link(self.fx) - self.link(self.fnull) = 0.19999999999999996\n",
      "2024-10-06 17:35 - DEBUG - self.fx = 1\n",
      "2024-10-06 17:35 - DEBUG - self.link(self.fx) = 1\n",
      "2024-10-06 17:35 - DEBUG - self.fnull = 0.8\n",
      "2024-10-06 17:35 - DEBUG - self.link(self.fnull) = 0.8\n",
      "2024-10-06 17:35 - INFO - phi = array([ 1.46269841e-01,  1.55555556e-02,  1.42936508e-01, -2.77777778e-02,\n",
      "       -3.58730159e-02,  2.18274172e-17, -1.82539683e-03, -3.84920635e-02,\n",
      "       -1.11111111e-03,  3.17460317e-04])\n",
      "2024-10-06 17:35 - DEBUG - weight_vector = array([0.39276196, 0.2209286 , 0.16832655, 0.14728573, 0.07069715])\n",
      "2024-10-06 17:35 - DEBUG - num_subset_sizes = 5\n",
      "2024-10-06 17:35 - DEBUG - num_paired_subset_sizes = 4\n",
      "2024-10-06 17:35 - DEBUG - self.M = 10\n",
      "2024-10-06 17:35 - DEBUG - subset_size = 1\n",
      "2024-10-06 17:35 - DEBUG - nsubsets = 20.0\n",
      "2024-10-06 17:35 - DEBUG - self.nsamples*weight_vector[subset_size-1] = 401.4027212792817\n",
      "2024-10-06 17:35 - DEBUG - self.nsamples*weight_vector[subset_size-1]/nsubsets = 20.070136063964085\n",
      "2024-10-06 17:35 - DEBUG - subset_size = 2\n",
      "2024-10-06 17:35 - DEBUG - nsubsets = 90.0\n",
      "2024-10-06 17:35 - DEBUG - self.nsamples*weight_vector[subset_size-1] = 364.5530145530144\n",
      "2024-10-06 17:35 - DEBUG - self.nsamples*weight_vector[subset_size-1]/nsubsets = 4.050589050589049\n",
      "2024-10-06 17:35 - DEBUG - subset_size = 3\n",
      "2024-10-06 17:35 - DEBUG - nsubsets = 240.0\n",
      "2024-10-06 17:35 - DEBUG - self.nsamples*weight_vector[subset_size-1] = 397.3856209150324\n",
      "2024-10-06 17:35 - DEBUG - self.nsamples*weight_vector[subset_size-1]/nsubsets = 1.6557734204793018\n",
      "2024-10-06 17:35 - DEBUG - subset_size = 4\n",
      "2024-10-06 17:35 - DEBUG - nsubsets = 420.0\n",
      "2024-10-06 17:35 - DEBUG - self.nsamples*weight_vector[subset_size-1] = 454.0540540540535\n",
      "2024-10-06 17:35 - DEBUG - self.nsamples*weight_vector[subset_size-1]/nsubsets = 1.0810810810810798\n",
      "2024-10-06 17:35 - DEBUG - subset_size = 5\n",
      "2024-10-06 17:35 - DEBUG - nsubsets = 252.0\n",
      "2024-10-06 17:35 - DEBUG - self.nsamples*weight_vector[subset_size-1] = 251.9999999999991\n",
      "2024-10-06 17:35 - DEBUG - self.nsamples*weight_vector[subset_size-1]/nsubsets = 0.9999999999999963\n",
      "2024-10-06 17:35 - INFO - num_full_subsets = 5\n",
      "2024-10-06 17:35 - DEBUG - samples_left = 0\n",
      "2024-10-06 17:35 - DEBUG - fraction_evaluated = 1.0\n",
      "2024-10-06 17:35 - DEBUG - etmp[:4, :] = array([[ 1.,  0.,  0.,  0.,  0.,  0.,  0.,  0.,  0.],\n",
      "       [-1.,  0.,  0.,  0.,  0.,  0.,  0.,  0.,  0.],\n",
      "       [ 0.,  1.,  0.,  0.,  0.,  0.,  0.,  0.,  0.],\n",
      "       [ 0., -1.,  0.,  0.,  0.,  0.,  0.,  0.,  0.]])\n",
      "2024-10-06 17:35 - DEBUG - np.sum(w) = 0.19992063492063483\n",
      "2024-10-06 17:35 - DEBUG - self.link(self.fx) - self.link(self.fnull) = 0.19999999999999996\n",
      "2024-10-06 17:35 - DEBUG - self.fx = 1\n",
      "2024-10-06 17:35 - DEBUG - self.link(self.fx) = 1\n",
      "2024-10-06 17:35 - DEBUG - self.fnull = 0.8\n",
      "2024-10-06 17:35 - DEBUG - self.link(self.fnull) = 0.8\n",
      "2024-10-06 17:35 - INFO - phi = array([ 1.45317460e-01,  9.36507937e-03, -1.34682540e-01, -3.25396825e-03,\n",
      "        2.21507937e-01, -9.65403898e-18,  3.41269841e-03, -4.32539683e-02,\n",
      "        1.50793651e-03,  7.93650794e-05])\n",
      "2024-10-06 17:35 - DEBUG - weight_vector = array([0.39276196, 0.2209286 , 0.16832655, 0.14728573, 0.07069715])\n",
      "2024-10-06 17:35 - DEBUG - num_subset_sizes = 5\n",
      "2024-10-06 17:35 - DEBUG - num_paired_subset_sizes = 4\n",
      "2024-10-06 17:35 - DEBUG - self.M = 10\n",
      "2024-10-06 17:35 - DEBUG - subset_size = 1\n",
      "2024-10-06 17:35 - DEBUG - nsubsets = 20.0\n",
      "2024-10-06 17:35 - DEBUG - self.nsamples*weight_vector[subset_size-1] = 401.4027212792817\n",
      "2024-10-06 17:35 - DEBUG - self.nsamples*weight_vector[subset_size-1]/nsubsets = 20.070136063964085\n",
      "2024-10-06 17:35 - DEBUG - subset_size = 2\n",
      "2024-10-06 17:35 - DEBUG - nsubsets = 90.0\n",
      "2024-10-06 17:35 - DEBUG - self.nsamples*weight_vector[subset_size-1] = 364.5530145530144\n",
      "2024-10-06 17:35 - DEBUG - self.nsamples*weight_vector[subset_size-1]/nsubsets = 4.050589050589049\n",
      "2024-10-06 17:35 - DEBUG - subset_size = 3\n",
      "2024-10-06 17:35 - DEBUG - nsubsets = 240.0\n",
      "2024-10-06 17:35 - DEBUG - self.nsamples*weight_vector[subset_size-1] = 397.3856209150324\n",
      "2024-10-06 17:35 - DEBUG - self.nsamples*weight_vector[subset_size-1]/nsubsets = 1.6557734204793018\n",
      "2024-10-06 17:35 - DEBUG - subset_size = 4\n",
      "2024-10-06 17:35 - DEBUG - nsubsets = 420.0\n",
      "2024-10-06 17:35 - DEBUG - self.nsamples*weight_vector[subset_size-1] = 454.0540540540535\n",
      "2024-10-06 17:35 - DEBUG - self.nsamples*weight_vector[subset_size-1]/nsubsets = 1.0810810810810798\n",
      "2024-10-06 17:35 - DEBUG - subset_size = 5\n",
      "2024-10-06 17:35 - DEBUG - nsubsets = 252.0\n",
      "2024-10-06 17:35 - DEBUG - self.nsamples*weight_vector[subset_size-1] = 251.9999999999991\n",
      "2024-10-06 17:35 - DEBUG - self.nsamples*weight_vector[subset_size-1]/nsubsets = 0.9999999999999963\n",
      "2024-10-06 17:35 - INFO - num_full_subsets = 5\n",
      "2024-10-06 17:35 - DEBUG - samples_left = 0\n",
      "2024-10-06 17:35 - DEBUG - fraction_evaluated = 1.0\n",
      "2024-10-06 17:35 - DEBUG - etmp[:4, :] = array([[ 1.,  0.,  0.,  0.,  0.,  0.,  0.,  0.,  0.],\n",
      "       [-1.,  0.,  0.,  0.,  0.,  0.,  0.,  0.,  0.],\n",
      "       [ 0.,  1.,  0.,  0.,  0.,  0.,  0.,  0.,  0.],\n",
      "       [ 0., -1.,  0.,  0.,  0.,  0.,  0.,  0.,  0.]])\n",
      "2024-10-06 17:35 - DEBUG - np.sum(w) = 0.1999999999999999\n",
      "2024-10-06 17:35 - DEBUG - self.link(self.fx) - self.link(self.fnull) = 0.19999999999999996\n",
      "2024-10-06 17:35 - DEBUG - self.fx = 1\n",
      "2024-10-06 17:35 - DEBUG - self.link(self.fx) = 1\n",
      "2024-10-06 17:35 - DEBUG - self.fnull = 0.8\n",
      "2024-10-06 17:35 - DEBUG - self.link(self.fnull) = 0.8\n",
      "2024-10-06 17:35 - INFO - phi = array([ 2.36666667e-01, -1.33333333e-02,  3.66666667e-02,  1.00000000e-02,\n",
      "       -8.00000000e-02,  3.27659551e-17,  4.67382450e-17,  1.00000000e-02,\n",
      "        4.78519005e-17,  8.32667268e-17])\n",
      "2024-10-06 17:35 - DEBUG - weight_vector = array([0.39276196, 0.2209286 , 0.16832655, 0.14728573, 0.07069715])\n",
      "2024-10-06 17:35 - DEBUG - num_subset_sizes = 5\n",
      "2024-10-06 17:35 - DEBUG - num_paired_subset_sizes = 4\n",
      "2024-10-06 17:35 - DEBUG - self.M = 10\n",
      "2024-10-06 17:35 - DEBUG - subset_size = 1\n",
      "2024-10-06 17:35 - DEBUG - nsubsets = 20.0\n",
      "2024-10-06 17:35 - DEBUG - self.nsamples*weight_vector[subset_size-1] = 401.4027212792817\n",
      "2024-10-06 17:35 - DEBUG - self.nsamples*weight_vector[subset_size-1]/nsubsets = 20.070136063964085\n",
      "2024-10-06 17:35 - DEBUG - subset_size = 2\n",
      "2024-10-06 17:35 - DEBUG - nsubsets = 90.0\n",
      "2024-10-06 17:35 - DEBUG - self.nsamples*weight_vector[subset_size-1] = 364.5530145530144\n",
      "2024-10-06 17:35 - DEBUG - self.nsamples*weight_vector[subset_size-1]/nsubsets = 4.050589050589049\n",
      "2024-10-06 17:35 - DEBUG - subset_size = 3\n",
      "2024-10-06 17:35 - DEBUG - nsubsets = 240.0\n",
      "2024-10-06 17:35 - DEBUG - self.nsamples*weight_vector[subset_size-1] = 397.3856209150324\n",
      "2024-10-06 17:35 - DEBUG - self.nsamples*weight_vector[subset_size-1]/nsubsets = 1.6557734204793018\n",
      "2024-10-06 17:35 - DEBUG - subset_size = 4\n",
      "2024-10-06 17:35 - DEBUG - nsubsets = 420.0\n",
      "2024-10-06 17:35 - DEBUG - self.nsamples*weight_vector[subset_size-1] = 454.0540540540535\n",
      "2024-10-06 17:35 - DEBUG - self.nsamples*weight_vector[subset_size-1]/nsubsets = 1.0810810810810798\n",
      "2024-10-06 17:35 - DEBUG - subset_size = 5\n",
      "2024-10-06 17:35 - DEBUG - nsubsets = 252.0\n",
      "2024-10-06 17:35 - DEBUG - self.nsamples*weight_vector[subset_size-1] = 251.9999999999991\n",
      "2024-10-06 17:35 - DEBUG - self.nsamples*weight_vector[subset_size-1]/nsubsets = 0.9999999999999963\n",
      "2024-10-06 17:35 - INFO - num_full_subsets = 5\n",
      "2024-10-06 17:35 - DEBUG - samples_left = 0\n",
      "2024-10-06 17:35 - DEBUG - fraction_evaluated = 1.0\n",
      "2024-10-06 17:35 - DEBUG - etmp[:4, :] = array([[ 1.,  0.,  0.,  0.,  0.,  0.,  0.,  0.,  0.],\n",
      "       [-1.,  0.,  0.,  0.,  0.,  0.,  0.,  0.,  0.],\n",
      "       [ 0.,  1.,  0.,  0.,  0.,  0.,  0.,  0.,  0.],\n",
      "       [ 0., -1.,  0.,  0.,  0.,  0.,  0.,  0.,  0.]])\n",
      "2024-10-06 17:35 - DEBUG - np.sum(w) = -0.7996031746031743\n",
      "2024-10-06 17:35 - DEBUG - self.link(self.fx) - self.link(self.fnull) = -0.8\n",
      "2024-10-06 17:35 - DEBUG - self.fx = 0\n",
      "2024-10-06 17:35 - DEBUG - self.link(self.fx) = 0\n",
      "2024-10-06 17:35 - DEBUG - self.fnull = 0.8\n",
      "2024-10-06 17:35 - DEBUG - self.link(self.fnull) = 0.8\n",
      "2024-10-06 17:35 - INFO - phi = array([-7.84920635e-01, -1.58730159e-03,  1.50793651e-02,  4.36507937e-03,\n",
      "       -4.56349206e-02, -1.65461836e-16, -1.58730159e-03,  1.50793651e-02,\n",
      "       -3.96825397e-04, -3.96825397e-04])\n",
      "2024-10-06 17:35 - DEBUG - weight_vector = array([0.39276196, 0.2209286 , 0.16832655, 0.14728573, 0.07069715])\n",
      "2024-10-06 17:35 - DEBUG - num_subset_sizes = 5\n",
      "2024-10-06 17:35 - DEBUG - num_paired_subset_sizes = 4\n",
      "2024-10-06 17:35 - DEBUG - self.M = 10\n",
      "2024-10-06 17:35 - DEBUG - subset_size = 1\n",
      "2024-10-06 17:35 - DEBUG - nsubsets = 20.0\n",
      "2024-10-06 17:35 - DEBUG - self.nsamples*weight_vector[subset_size-1] = 401.4027212792817\n",
      "2024-10-06 17:35 - DEBUG - self.nsamples*weight_vector[subset_size-1]/nsubsets = 20.070136063964085\n",
      "2024-10-06 17:35 - DEBUG - subset_size = 2\n",
      "2024-10-06 17:35 - DEBUG - nsubsets = 90.0\n",
      "2024-10-06 17:35 - DEBUG - self.nsamples*weight_vector[subset_size-1] = 364.5530145530144\n",
      "2024-10-06 17:35 - DEBUG - self.nsamples*weight_vector[subset_size-1]/nsubsets = 4.050589050589049\n",
      "2024-10-06 17:35 - DEBUG - subset_size = 3\n",
      "2024-10-06 17:35 - DEBUG - nsubsets = 240.0\n",
      "2024-10-06 17:35 - DEBUG - self.nsamples*weight_vector[subset_size-1] = 397.3856209150324\n",
      "2024-10-06 17:35 - DEBUG - self.nsamples*weight_vector[subset_size-1]/nsubsets = 1.6557734204793018\n",
      "2024-10-06 17:35 - DEBUG - subset_size = 4\n",
      "2024-10-06 17:35 - DEBUG - nsubsets = 420.0\n",
      "2024-10-06 17:35 - DEBUG - self.nsamples*weight_vector[subset_size-1] = 454.0540540540535\n",
      "2024-10-06 17:35 - DEBUG - self.nsamples*weight_vector[subset_size-1]/nsubsets = 1.0810810810810798\n",
      "2024-10-06 17:35 - DEBUG - subset_size = 5\n",
      "2024-10-06 17:35 - DEBUG - nsubsets = 252.0\n",
      "2024-10-06 17:35 - DEBUG - self.nsamples*weight_vector[subset_size-1] = 251.9999999999991\n",
      "2024-10-06 17:35 - DEBUG - self.nsamples*weight_vector[subset_size-1]/nsubsets = 0.9999999999999963\n",
      "2024-10-06 17:35 - INFO - num_full_subsets = 5\n",
      "2024-10-06 17:35 - DEBUG - samples_left = 0\n",
      "2024-10-06 17:35 - DEBUG - fraction_evaluated = 1.0\n",
      "2024-10-06 17:35 - DEBUG - etmp[:4, :] = array([[ 1.,  0.,  0.,  0.,  0.,  0.,  0.,  0.,  0.],\n",
      "       [-1.,  0.,  0.,  0.,  0.,  0.,  0.,  0.,  0.],\n",
      "       [ 0.,  1.,  0.,  0.,  0.,  0.,  0.,  0.,  0.],\n",
      "       [ 0., -1.,  0.,  0.,  0.,  0.,  0.,  0.,  0.]])\n",
      "2024-10-06 17:35 - DEBUG - np.sum(w) = 0.19999999999999982\n",
      "2024-10-06 17:35 - DEBUG - self.link(self.fx) - self.link(self.fnull) = 0.19999999999999996\n",
      "2024-10-06 17:35 - DEBUG - self.fx = 1\n",
      "2024-10-06 17:35 - DEBUG - self.link(self.fx) = 1\n",
      "2024-10-06 17:35 - DEBUG - self.fnull = 0.8\n",
      "2024-10-06 17:35 - DEBUG - self.link(self.fnull) = 0.8\n",
      "2024-10-06 17:35 - INFO - phi = array([ 2.56666667e-01, -1.00000000e-02, -6.00000000e-02,  1.66666667e-02,\n",
      "       -6.00000000e-02,  2.36574721e-17,  1.52942176e-18,  5.66666667e-02,\n",
      "        4.55701566e-17,  1.38777878e-16])\n"
     ]
    },
    {
     "data": {
      "application/vnd.jupyter.widget-view+json": {
       "model_id": "dbd9c323582543a38c98ce48d6204a09",
       "version_major": 2,
       "version_minor": 0
      },
      "text/plain": [
       "  0%|          | 0/5 [00:00<?, ?it/s]"
      ]
     },
     "metadata": {},
     "output_type": "display_data"
    },
    {
     "name": "stdout",
     "output_type": "stream",
     "text": [
      "2024-10-06 17:35 - DEBUG - weight_vector = array([0.39276196, 0.2209286 , 0.16832655, 0.14728573, 0.07069715])\n",
      "2024-10-06 17:35 - DEBUG - num_subset_sizes = 5\n",
      "2024-10-06 17:35 - DEBUG - num_paired_subset_sizes = 4\n",
      "2024-10-06 17:35 - DEBUG - self.M = 10\n",
      "2024-10-06 17:35 - DEBUG - subset_size = 1\n",
      "2024-10-06 17:35 - DEBUG - nsubsets = 20.0\n",
      "2024-10-06 17:35 - DEBUG - self.nsamples*weight_vector[subset_size-1] = 401.4027212792817\n",
      "2024-10-06 17:35 - DEBUG - self.nsamples*weight_vector[subset_size-1]/nsubsets = 20.070136063964085\n",
      "2024-10-06 17:35 - DEBUG - subset_size = 2\n",
      "2024-10-06 17:35 - DEBUG - nsubsets = 90.0\n",
      "2024-10-06 17:35 - DEBUG - self.nsamples*weight_vector[subset_size-1] = 364.5530145530144\n",
      "2024-10-06 17:35 - DEBUG - self.nsamples*weight_vector[subset_size-1]/nsubsets = 4.050589050589049\n",
      "2024-10-06 17:35 - DEBUG - subset_size = 3\n",
      "2024-10-06 17:35 - DEBUG - nsubsets = 240.0\n",
      "2024-10-06 17:35 - DEBUG - self.nsamples*weight_vector[subset_size-1] = 397.3856209150324\n",
      "2024-10-06 17:35 - DEBUG - self.nsamples*weight_vector[subset_size-1]/nsubsets = 1.6557734204793018\n",
      "2024-10-06 17:35 - DEBUG - subset_size = 4\n",
      "2024-10-06 17:35 - DEBUG - nsubsets = 420.0\n",
      "2024-10-06 17:35 - DEBUG - self.nsamples*weight_vector[subset_size-1] = 454.0540540540535\n",
      "2024-10-06 17:35 - DEBUG - self.nsamples*weight_vector[subset_size-1]/nsubsets = 1.0810810810810798\n",
      "2024-10-06 17:35 - DEBUG - subset_size = 5\n",
      "2024-10-06 17:35 - DEBUG - nsubsets = 252.0\n",
      "2024-10-06 17:35 - DEBUG - self.nsamples*weight_vector[subset_size-1] = 251.9999999999991\n",
      "2024-10-06 17:35 - DEBUG - self.nsamples*weight_vector[subset_size-1]/nsubsets = 0.9999999999999963\n",
      "2024-10-06 17:35 - INFO - num_full_subsets = 5\n",
      "2024-10-06 17:35 - DEBUG - samples_left = 0\n",
      "2024-10-06 17:35 - DEBUG - fraction_evaluated = 1.0\n",
      "2024-10-06 17:35 - DEBUG - etmp[:4, :] = array([[ 1.,  0.,  0.,  0.,  0.,  0.,  0.,  0.,  0.],\n",
      "       [-1.,  0.,  0.,  0.,  0.,  0.,  0.,  0.,  0.],\n",
      "       [ 0.,  1.,  0.,  0.,  0.,  0.,  0.,  0.,  0.],\n",
      "       [ 0., -1.,  0.,  0.,  0.,  0.,  0.,  0.,  0.]])\n",
      "2024-10-06 17:35 - DEBUG - np.sum(w) = -0.0169047619047619\n",
      "2024-10-06 17:35 - DEBUG - self.link(self.fx) - self.link(self.fnull) = 0.0\n",
      "2024-10-06 17:35 - DEBUG - self.fx = 1\n",
      "2024-10-06 17:35 - DEBUG - self.link(self.fx) = 1\n",
      "2024-10-06 17:35 - DEBUG - self.fnull = 1.0\n",
      "2024-10-06 17:35 - DEBUG - self.link(self.fnull) = 1.0\n",
      "2024-10-06 17:35 - INFO - phi = array([ 0.06269841, -0.0115873 ,  0.16039683, -0.08103175,  0.0152381 ,\n",
      "       -0.02126984, -0.05801587, -0.07992063, -0.0034127 ,  0.01690476])\n",
      "2024-10-06 17:35 - DEBUG - weight_vector = array([0.39276196, 0.2209286 , 0.16832655, 0.14728573, 0.07069715])\n",
      "2024-10-06 17:35 - DEBUG - num_subset_sizes = 5\n",
      "2024-10-06 17:35 - DEBUG - num_paired_subset_sizes = 4\n",
      "2024-10-06 17:35 - DEBUG - self.M = 10\n",
      "2024-10-06 17:35 - DEBUG - subset_size = 1\n",
      "2024-10-06 17:35 - DEBUG - nsubsets = 20.0\n",
      "2024-10-06 17:35 - DEBUG - self.nsamples*weight_vector[subset_size-1] = 401.4027212792817\n",
      "2024-10-06 17:35 - DEBUG - self.nsamples*weight_vector[subset_size-1]/nsubsets = 20.070136063964085\n",
      "2024-10-06 17:35 - DEBUG - subset_size = 2\n",
      "2024-10-06 17:35 - DEBUG - nsubsets = 90.0\n",
      "2024-10-06 17:35 - DEBUG - self.nsamples*weight_vector[subset_size-1] = 364.5530145530144\n",
      "2024-10-06 17:35 - DEBUG - self.nsamples*weight_vector[subset_size-1]/nsubsets = 4.050589050589049\n",
      "2024-10-06 17:35 - DEBUG - subset_size = 3\n",
      "2024-10-06 17:35 - DEBUG - nsubsets = 240.0\n",
      "2024-10-06 17:35 - DEBUG - self.nsamples*weight_vector[subset_size-1] = 397.3856209150324\n",
      "2024-10-06 17:35 - DEBUG - self.nsamples*weight_vector[subset_size-1]/nsubsets = 1.6557734204793018\n",
      "2024-10-06 17:35 - DEBUG - subset_size = 4\n",
      "2024-10-06 17:35 - DEBUG - nsubsets = 420.0\n",
      "2024-10-06 17:35 - DEBUG - self.nsamples*weight_vector[subset_size-1] = 454.0540540540535\n",
      "2024-10-06 17:35 - DEBUG - self.nsamples*weight_vector[subset_size-1]/nsubsets = 1.0810810810810798\n",
      "2024-10-06 17:35 - DEBUG - subset_size = 5\n",
      "2024-10-06 17:35 - DEBUG - nsubsets = 252.0\n",
      "2024-10-06 17:35 - DEBUG - self.nsamples*weight_vector[subset_size-1] = 251.9999999999991\n",
      "2024-10-06 17:35 - DEBUG - self.nsamples*weight_vector[subset_size-1]/nsubsets = 0.9999999999999963\n",
      "2024-10-06 17:35 - INFO - num_full_subsets = 5\n",
      "2024-10-06 17:35 - DEBUG - samples_left = 0\n",
      "2024-10-06 17:35 - DEBUG - fraction_evaluated = 1.0\n",
      "2024-10-06 17:35 - DEBUG - etmp[:4, :] = array([[ 1.,  0.,  0.,  0.,  0.,  0.,  0.,  0.,  0.],\n",
      "       [-1.,  0.,  0.,  0.,  0.,  0.,  0.,  0.,  0.],\n",
      "       [ 0.,  1.,  0.,  0.,  0.,  0.,  0.,  0.,  0.],\n",
      "       [ 0., -1.,  0.,  0.,  0.,  0.,  0.,  0.,  0.]])\n",
      "2024-10-06 17:35 - DEBUG - np.sum(w) = 0.01642857142857143\n",
      "2024-10-06 17:35 - DEBUG - self.link(self.fx) - self.link(self.fnull) = 0.0\n",
      "2024-10-06 17:35 - DEBUG - self.fx = 1\n",
      "2024-10-06 17:35 - DEBUG - self.link(self.fx) = 1\n",
      "2024-10-06 17:35 - DEBUG - self.fnull = 1.0\n",
      "2024-10-06 17:35 - DEBUG - self.link(self.fnull) = 1.0\n",
      "2024-10-06 17:35 - INFO - phi = array([ 0.06896825,  0.01968254, -0.22142857,  0.05547619, -0.00769841,\n",
      "        0.01428571,  0.10071429, -0.04595238,  0.03238095, -0.01642857])\n",
      "2024-10-06 17:35 - DEBUG - weight_vector = array([0.39276196, 0.2209286 , 0.16832655, 0.14728573, 0.07069715])\n",
      "2024-10-06 17:35 - DEBUG - num_subset_sizes = 5\n",
      "2024-10-06 17:35 - DEBUG - num_paired_subset_sizes = 4\n",
      "2024-10-06 17:35 - DEBUG - self.M = 10\n",
      "2024-10-06 17:35 - DEBUG - subset_size = 1\n",
      "2024-10-06 17:35 - DEBUG - nsubsets = 20.0\n",
      "2024-10-06 17:35 - DEBUG - self.nsamples*weight_vector[subset_size-1] = 401.4027212792817\n",
      "2024-10-06 17:35 - DEBUG - self.nsamples*weight_vector[subset_size-1]/nsubsets = 20.070136063964085\n",
      "2024-10-06 17:35 - DEBUG - subset_size = 2\n",
      "2024-10-06 17:35 - DEBUG - nsubsets = 90.0\n",
      "2024-10-06 17:35 - DEBUG - self.nsamples*weight_vector[subset_size-1] = 364.5530145530144\n",
      "2024-10-06 17:35 - DEBUG - self.nsamples*weight_vector[subset_size-1]/nsubsets = 4.050589050589049\n",
      "2024-10-06 17:35 - DEBUG - subset_size = 3\n",
      "2024-10-06 17:35 - DEBUG - nsubsets = 240.0\n",
      "2024-10-06 17:35 - DEBUG - self.nsamples*weight_vector[subset_size-1] = 397.3856209150324\n",
      "2024-10-06 17:35 - DEBUG - self.nsamples*weight_vector[subset_size-1]/nsubsets = 1.6557734204793018\n",
      "2024-10-06 17:35 - DEBUG - subset_size = 4\n",
      "2024-10-06 17:35 - DEBUG - nsubsets = 420.0\n",
      "2024-10-06 17:35 - DEBUG - self.nsamples*weight_vector[subset_size-1] = 454.0540540540535\n",
      "2024-10-06 17:35 - DEBUG - self.nsamples*weight_vector[subset_size-1]/nsubsets = 1.0810810810810798\n",
      "2024-10-06 17:35 - DEBUG - subset_size = 5\n",
      "2024-10-06 17:35 - DEBUG - nsubsets = 252.0\n",
      "2024-10-06 17:35 - DEBUG - self.nsamples*weight_vector[subset_size-1] = 251.9999999999991\n",
      "2024-10-06 17:35 - DEBUG - self.nsamples*weight_vector[subset_size-1]/nsubsets = 0.9999999999999963\n",
      "2024-10-06 17:35 - INFO - num_full_subsets = 5\n",
      "2024-10-06 17:35 - DEBUG - samples_left = 0\n",
      "2024-10-06 17:35 - DEBUG - fraction_evaluated = 1.0\n",
      "2024-10-06 17:35 - DEBUG - etmp[:4, :] = array([[ 1.,  0.,  0.,  0.,  0.,  0.,  0.,  0.,  0.],\n",
      "       [-1.,  0.,  0.,  0.,  0.,  0.,  0.,  0.,  0.],\n",
      "       [ 0.,  1.,  0.,  0.,  0.,  0.,  0.,  0.,  0.],\n",
      "       [ 0., -1.,  0.,  0.,  0.,  0.,  0.,  0.,  0.]])\n",
      "2024-10-06 17:35 - DEBUG - np.sum(w) = 0.0013492063492063396\n",
      "2024-10-06 17:35 - DEBUG - self.link(self.fx) - self.link(self.fnull) = 0.0\n",
      "2024-10-06 17:35 - DEBUG - self.fx = 1\n",
      "2024-10-06 17:35 - DEBUG - self.link(self.fx) = 1\n",
      "2024-10-06 17:35 - DEBUG - self.fnull = 1.0\n",
      "2024-10-06 17:35 - DEBUG - self.link(self.fnull) = 1.0\n",
      "2024-10-06 17:35 - INFO - phi = array([ 0.09166667,  0.00873016, -0.04650794, -0.00968254, -0.01928571,\n",
      "       -0.00904762,  0.00984127,  0.0034127 , -0.02777778, -0.00134921])\n",
      "2024-10-06 17:35 - DEBUG - weight_vector = array([0.39276196, 0.2209286 , 0.16832655, 0.14728573, 0.07069715])\n",
      "2024-10-06 17:35 - DEBUG - num_subset_sizes = 5\n",
      "2024-10-06 17:35 - DEBUG - num_paired_subset_sizes = 4\n",
      "2024-10-06 17:35 - DEBUG - self.M = 10\n",
      "2024-10-06 17:35 - DEBUG - subset_size = 1\n",
      "2024-10-06 17:35 - DEBUG - nsubsets = 20.0\n",
      "2024-10-06 17:35 - DEBUG - self.nsamples*weight_vector[subset_size-1] = 401.4027212792817\n",
      "2024-10-06 17:35 - DEBUG - self.nsamples*weight_vector[subset_size-1]/nsubsets = 20.070136063964085\n",
      "2024-10-06 17:35 - DEBUG - subset_size = 2\n",
      "2024-10-06 17:35 - DEBUG - nsubsets = 90.0\n",
      "2024-10-06 17:35 - DEBUG - self.nsamples*weight_vector[subset_size-1] = 364.5530145530144\n",
      "2024-10-06 17:35 - DEBUG - self.nsamples*weight_vector[subset_size-1]/nsubsets = 4.050589050589049\n",
      "2024-10-06 17:35 - DEBUG - subset_size = 3\n",
      "2024-10-06 17:35 - DEBUG - nsubsets = 240.0\n",
      "2024-10-06 17:35 - DEBUG - self.nsamples*weight_vector[subset_size-1] = 397.3856209150324\n",
      "2024-10-06 17:35 - DEBUG - self.nsamples*weight_vector[subset_size-1]/nsubsets = 1.6557734204793018\n",
      "2024-10-06 17:35 - DEBUG - subset_size = 4\n",
      "2024-10-06 17:35 - DEBUG - nsubsets = 420.0\n",
      "2024-10-06 17:35 - DEBUG - self.nsamples*weight_vector[subset_size-1] = 454.0540540540535\n",
      "2024-10-06 17:35 - DEBUG - self.nsamples*weight_vector[subset_size-1]/nsubsets = 1.0810810810810798\n",
      "2024-10-06 17:35 - DEBUG - subset_size = 5\n",
      "2024-10-06 17:35 - DEBUG - nsubsets = 252.0\n",
      "2024-10-06 17:35 - DEBUG - self.nsamples*weight_vector[subset_size-1] = 251.9999999999991\n",
      "2024-10-06 17:35 - DEBUG - self.nsamples*weight_vector[subset_size-1]/nsubsets = 0.9999999999999963\n",
      "2024-10-06 17:35 - INFO - num_full_subsets = 5\n",
      "2024-10-06 17:35 - DEBUG - samples_left = 0\n",
      "2024-10-06 17:35 - DEBUG - fraction_evaluated = 1.0\n",
      "2024-10-06 17:35 - DEBUG - etmp[:4, :] = array([[ 1.,  0.,  0.,  0.,  0.,  0.,  0.,  0.,  0.],\n",
      "       [-1.,  0.,  0.,  0.,  0.,  0.,  0.,  0.,  0.],\n",
      "       [ 0.,  1.,  0.,  0.,  0.,  0.,  0.,  0.,  0.],\n",
      "       [ 0., -1.,  0.,  0.,  0.,  0.,  0.,  0.,  0.]])\n",
      "2024-10-06 17:35 - DEBUG - np.sum(w) = 0.02087301587301586\n",
      "2024-10-06 17:35 - DEBUG - self.link(self.fx) - self.link(self.fnull) = 0.0\n",
      "2024-10-06 17:35 - DEBUG - self.fx = 1\n",
      "2024-10-06 17:35 - DEBUG - self.link(self.fx) = 1\n",
      "2024-10-06 17:35 - DEBUG - self.fnull = 1.0\n",
      "2024-10-06 17:35 - DEBUG - self.link(self.fnull) = 1.0\n",
      "2024-10-06 17:35 - INFO - phi = array([-0.26920635, -0.01253968,  0.22992063,  0.02325397,  0.015     ,\n",
      "        0.01563492, -0.06428571,  0.08166667,  0.00142857, -0.02087302])\n",
      "2024-10-06 17:35 - DEBUG - weight_vector = array([0.39276196, 0.2209286 , 0.16832655, 0.14728573, 0.07069715])\n",
      "2024-10-06 17:35 - DEBUG - num_subset_sizes = 5\n",
      "2024-10-06 17:35 - DEBUG - num_paired_subset_sizes = 4\n",
      "2024-10-06 17:35 - DEBUG - self.M = 10\n",
      "2024-10-06 17:35 - DEBUG - subset_size = 1\n",
      "2024-10-06 17:35 - DEBUG - nsubsets = 20.0\n",
      "2024-10-06 17:35 - DEBUG - self.nsamples*weight_vector[subset_size-1] = 401.4027212792817\n",
      "2024-10-06 17:35 - DEBUG - self.nsamples*weight_vector[subset_size-1]/nsubsets = 20.070136063964085\n",
      "2024-10-06 17:35 - DEBUG - subset_size = 2\n",
      "2024-10-06 17:35 - DEBUG - nsubsets = 90.0\n",
      "2024-10-06 17:35 - DEBUG - self.nsamples*weight_vector[subset_size-1] = 364.5530145530144\n",
      "2024-10-06 17:35 - DEBUG - self.nsamples*weight_vector[subset_size-1]/nsubsets = 4.050589050589049\n",
      "2024-10-06 17:35 - DEBUG - subset_size = 3\n",
      "2024-10-06 17:35 - DEBUG - nsubsets = 240.0\n",
      "2024-10-06 17:35 - DEBUG - self.nsamples*weight_vector[subset_size-1] = 397.3856209150324\n",
      "2024-10-06 17:35 - DEBUG - self.nsamples*weight_vector[subset_size-1]/nsubsets = 1.6557734204793018\n",
      "2024-10-06 17:35 - DEBUG - subset_size = 4\n",
      "2024-10-06 17:35 - DEBUG - nsubsets = 420.0\n",
      "2024-10-06 17:35 - DEBUG - self.nsamples*weight_vector[subset_size-1] = 454.0540540540535\n",
      "2024-10-06 17:35 - DEBUG - self.nsamples*weight_vector[subset_size-1]/nsubsets = 1.0810810810810798\n",
      "2024-10-06 17:35 - DEBUG - subset_size = 5\n",
      "2024-10-06 17:35 - DEBUG - nsubsets = 252.0\n",
      "2024-10-06 17:35 - DEBUG - self.nsamples*weight_vector[subset_size-1] = 251.9999999999991\n",
      "2024-10-06 17:35 - DEBUG - self.nsamples*weight_vector[subset_size-1]/nsubsets = 0.9999999999999963\n",
      "2024-10-06 17:35 - INFO - num_full_subsets = 5\n",
      "2024-10-06 17:35 - DEBUG - samples_left = 0\n",
      "2024-10-06 17:35 - DEBUG - fraction_evaluated = 1.0\n",
      "2024-10-06 17:35 - DEBUG - etmp[:4, :] = array([[ 1.,  0.,  0.,  0.,  0.,  0.,  0.,  0.,  0.],\n",
      "       [-1.,  0.,  0.,  0.,  0.,  0.,  0.,  0.,  0.],\n",
      "       [ 0.,  1.,  0.,  0.,  0.,  0.,  0.,  0.,  0.],\n",
      "       [ 0., -1.,  0.,  0.,  0.,  0.,  0.,  0.,  0.]])\n",
      "2024-10-06 17:35 - DEBUG - np.sum(w) = -0.02174603174603175\n",
      "2024-10-06 17:35 - DEBUG - self.link(self.fx) - self.link(self.fnull) = 0.0\n",
      "2024-10-06 17:35 - DEBUG - self.fx = 1\n",
      "2024-10-06 17:35 - DEBUG - self.link(self.fx) = 1\n",
      "2024-10-06 17:35 - DEBUG - self.fnull = 1.0\n",
      "2024-10-06 17:35 - DEBUG - self.link(self.fnull) = 1.0\n",
      "2024-10-06 17:35 - INFO - phi = array([ 0.04587302, -0.00428571, -0.12238095,  0.01198413, -0.00325397,\n",
      "        0.00039683,  0.01174603,  0.04079365, -0.00261905,  0.02174603])\n"
     ]
    }
   ],
   "source": [
    "shap_values = {}\n",
    "explainers = {}\n",
    "obs = {}\n",
    "for k,v in BEST_ESTIMATOR.items():\n",
    "    obs[k], explainers[k], shap_values[k] = get_shap_values(v, X_train, y_train, X_test, y_test, sample=5)"
   ]
  },
  {
   "cell_type": "code",
   "execution_count": 12,
   "metadata": {},
   "outputs": [
    {
     "data": {
      "image/png": "[encoded data removed]",
      "text/plain": [
       "<Figure size 432x288 with 3 Axes>"
      ]
     },
     "metadata": {},
     "output_type": "display_data"
    }
   ],
   "source": [
    "fig, axes = plt.subplots(1,len(BEST_ESTIMATOR), facecolor=(1, 1, 1), )\n",
    "for i,v in enumerate(BEST_ESTIMATOR.keys()):\n",
    "    shap.plots.bar(shap_values[v], ax=axes[i], show=False)\n",
    "    axes[i].set_title(v.upper())\n",
    "fig.tight_layout()\n"
   ]
  },
  {
   "cell_type": "code",
   "execution_count": 13,
   "metadata": {},
   "outputs": [
    {
     "name": "stdout",
     "output_type": "stream",
     "text": [
      "2024-10-06 17:35 - DEBUG - locator: <matplotlib.ticker.FixedLocator object at 0x16dd42cd0>\n",
      "2024-10-06 17:35 - DEBUG - locator: <matplotlib.ticker.FixedLocator object at 0x16de12520>\n",
      "2024-10-06 17:35 - DEBUG - locator: <matplotlib.ticker.FixedLocator object at 0x16ded5790>\n"
     ]
    },
    {
     "data": {
      "image/png": "[encoded data removed]",
      "text/plain": [
       "<Figure size 576x396 with 3 Axes>"
      ]
     },
     "metadata": {
      "needs_background": "light"
     },
     "output_type": "display_data"
    }
   ],
   "source": [
    "plt. subplots_adjust(wspace=1.)\n",
    "for i,v in enumerate(BEST_ESTIMATOR.keys()):\n",
    "    plt.subplot(1,len(BEST_ESTIMATOR),i+1)\n",
    "    shap.decision_plot(explainers[v].expected_value, shap_values[v].values, obs[v].columns, show=False)\n",
    "    plt.title(v.upper())\n"
   ]
  },
  {
   "cell_type": "code",
   "execution_count": null,
   "metadata": {},
   "outputs": [],
   "source": []
  }
 ],
 "metadata": {
  "kernelspec": {
   "display_name": "python3.9",
   "language": "python",
   "name": "python3"
  },
  "language_info": {
   "codemirror_mode": {
    "name": "ipython",
    "version": 3
   },
   "file_extension": ".py",
   "mimetype": "text/x-python",
   "name": "python",
   "nbconvert_exporter": "python",
   "pygments_lexer": "ipython3",
   "version": "3.9.7"
  }
 },
 "nbformat": 4,
 "nbformat_minor": 2
}
